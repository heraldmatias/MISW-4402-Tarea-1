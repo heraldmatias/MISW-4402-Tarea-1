{
 "cells": [
  {
   "cell_type": "markdown",
   "metadata": {},
   "source": [
    "# Tarea 1: Entendimiento de los datos con PySpark"
   ]
  },
  {
   "cell_type": "markdown",
   "metadata": {},
   "source": [
    "## Enunciado\n",
    "Ahora que ya aprendió a usar PySpark para exploración y preprocesamiento de datos, lo invitamos a que realice el proceso de entendimiento de datos de la tabla movimientosCopia, que registra el movimiento en inventario de un producto.\n",
    "En esta actividad le recomendamos revisar el diccionario de datos suministrado y en particular la información relacionada con esta tabla. Si tienen alguna duda relacionada a esta tabla deben incluirla en las preguntas o aclaraciones que le entreguen al negocio. En relación a los datos Wide World Importers menciona:\n",
    "- La cantidad máxima de productos movidos es 50 millones por viaje\n",
    "- Existen 236.668 movimientos de producto realizados desde 2013\n",
    "- Los movimientos están relacionados con 228.265 clientes\n",
    "- El formato de fechas manejado es YYYY-MM-DD HH:MM:SS\n",
    "- Actualmente tenemos 13 proveedores\n",
    "Idealmente debe terminar con una lista de preguntas o aclaraciones para la organización, conclusiones de los datos/problemas de calidad y alternativas para la limpieza.\n",
    "Recuerde en particular revisar la infografía de entendimiento de datos.\n",
    "\n"
   ]
  },
  {
   "cell_type": "markdown",
   "metadata": {},
   "source": [
    "Continuando con el proyecto de consultoria de Wide World Importers, el primer paso para iniciar la comprensión de los datos es explorar y entender las fuentes de datos disponibles. Note que esto también nos ayuda a comprender mejor la organización."
   ]
  },
  {
   "cell_type": "markdown",
   "metadata": {},
   "source": [
    "## Configuración e importe de paquetes\n",
    "Se utilizará el paquete de pandas profiling para apoyar el análisis estadístico, y se importan los paquetes de python\n",
    "necesarios"
   ]
  },
  {
   "cell_type": "code",
   "execution_count": 12,
   "metadata": {},
   "outputs": [],
   "source": [
    "from pyspark.sql import SparkSession\n",
    "from pyspark.sql import functions\n",
    "from pyspark.sql.types import StructType\n",
    "from pyspark import SparkContext, SparkConf, SQLContext\n",
    "from pyspark.sql.types import FloatType, StringType, IntegerType, DateType\n",
    "from pyspark.sql.functions import udf, col, length, isnan, when, count, trim\n",
    "import pyspark.sql.functions as f\n",
    "import os \n",
    "from datetime import datetime\n",
    "from pyspark.sql import types as t\n",
    "from pandas_profiling import ProfileReport\n",
    "#import matplotlib.pyplot as plt\n",
    "import numpy as np"
   ]
  },
  {
   "cell_type": "markdown",
   "metadata": {},
   "source": [
    "Configuración del controlador e inicio de sesion Spark"
   ]
  },
  {
   "cell_type": "code",
   "execution_count": 2,
   "metadata": {},
   "outputs": [],
   "source": [
    "path_jar_driver = 'C:\\Program Files (x86)\\MySQL\\Connector J 8.0\\mysql-connector-java-8.0.28.jar'"
   ]
  },
  {
   "cell_type": "code",
   "execution_count": 3,
   "metadata": {},
   "outputs": [
    {
     "name": "stderr",
     "output_type": "stream",
     "text": [
      "C:\\Users\\estudiante\\anaconda3\\envs\\Tutoriales\\lib\\site-packages\\pyspark\\sql\\context.py:79: FutureWarning: Deprecated in 3.0.0. Use SparkSession.builder.getOrCreate() instead.\n",
      "  FutureWarning\n"
     ]
    }
   ],
   "source": [
    "#Configuración de la sesión\n",
    "conf=SparkConf() \\\n",
    "    .set('spark.driver.extraClassPath', path_jar_driver)\n",
    "\n",
    "spark_context = SparkContext(conf=conf)\n",
    "sql_context = SQLContext(spark_context)\n",
    "spark = sql_context.sparkSession"
   ]
  },
  {
   "cell_type": "code",
   "execution_count": 4,
   "metadata": {},
   "outputs": [],
   "source": [
    "# Si quiere practicar la conexion con el servidor de base de datos:\n",
    "db_connection_string = 'jdbc:mysql://157.253.236.116:8080/WWImportersTransactional'\n",
    "# El usuario es su estudiante _i asignado y su contraseña la encontrará en el archivo excel de Coursera \n",
    "db_user = 'Estudiante_37'\n",
    "db_psswd = 'QV8UJT16LT'\n",
    "\n",
    "PATH='./'"
   ]
  },
  {
   "cell_type": "code",
   "execution_count": 5,
   "metadata": {},
   "outputs": [],
   "source": [
    "def obtener_dataframe_de_bd(db_connection_string, sql, db_user, db_psswd):\n",
    "    df_bd = spark.read.format('jdbc')\\\n",
    "        .option('url', db_connection_string) \\\n",
    "        .option('dbtable', sql) \\\n",
    "        .option('user', db_user) \\\n",
    "        .option('password', db_psswd) \\\n",
    "        .option('driver', 'com.mysql.cj.jdbc.Driver') \\\n",
    "        .load()\n",
    "    return df_bd"
   ]
  },
  {
   "cell_type": "markdown",
   "metadata": {
    "tags": []
   },
   "source": [
    "## Sumario\n",
    "A partir de los resultados de actividades previas, debes hacer el entendimiento de los datos de una fuente de datos. El detalle lo encuentras en la tarea del entendimiento de los datos: ENLACE TAREA.  Utiliza  como guía la infografía compartida del tema de entendimiento de datos.\n",
    "\n",
    "## Criterios de revisión\n",
    "Los criterios generales para la evaluación de la actividad son:"
   ]
  },
  {
   "cell_type": "markdown",
   "metadata": {
    "tags": []
   },
   "source": [
    "## Completitud del perfilamiento de datos (40 puntos)"
   ]
  },
  {
   "cell_type": "code",
   "execution_count": 69,
   "metadata": {},
   "outputs": [],
   "source": [
    "sql_movimientos_copia = 'WWImportersTransactional.movimientosCopia'\n",
    "sql_proveedores_copia = 'WWImportersTransactional.provedoresCopia'\n",
    "sql_tipos_transaccion = '''(SELECT mov.TransaccionProductoID, mov.TipoTransaccionID, tt.TipoTransaccionNombre\n",
    "FROM WWImportersTransactional.movimientosCopia as mov inner join WWImportersTransactional.TiposTransaccion as tt\n",
    "on mov.TipoTransaccionID = tt.TipoTransaccionID) as Compatible'''\n",
    "sql_clientes = 'WWImportersTransactional.Clientes'"
   ]
  },
  {
   "cell_type": "code",
   "execution_count": 70,
   "metadata": {},
   "outputs": [],
   "source": [
    "#Se cargan los dataframes desde la base de datos\n",
    "movimientos = obtener_dataframe_de_bd(db_connection_string, sql_movimientos_copia, db_user, db_psswd)\n",
    "proveedores = obtener_dataframe_de_bd(db_connection_string, sql_proveedores_copia, db_user, db_psswd)\n",
    "tipos_transaccion = obtener_dataframe_de_bd(db_connection_string, sql_tipos_transaccion, db_user, db_psswd)\n",
    "clientes = obtener_dataframe_de_bd(db_connection_string, sql_clientes, db_user, db_psswd)"
   ]
  },
  {
   "cell_type": "markdown",
   "metadata": {},
   "source": [
    "#### 1.1. Cantidad de registros y cantidad de columnas por tipo de dato"
   ]
  },
  {
   "cell_type": "code",
   "execution_count": 31,
   "metadata": {},
   "outputs": [
    {
     "name": "stdout",
     "output_type": "stream",
     "text": [
      "+-----------+--------------------+--------------------+--------------------------+------------------------+---------------+---------------+--------+-------------------+--------------------+--------------------+-----------------+----------------+------------------------+--------+--------------------+--------------+--------------+--------------------+----------+--------------------+------------+--------------------+----------------+----------------+-------------+----------------+\n",
      "|ProveedorID|     NombreProveedor|CategoriaProveedorID|PersonaContactoPrincipalID|PersonaContactoAlternoID|MetodoEntregaID|CiudadEntregaID|CiudadID|ReferenciaProveedor|   NombreCuentaBanco|    MarcaCuentaBanco|CodigoCuentaBanco|NumeroCuentaBaco|CodigoInternacionalBanco|DiasPago| ComentariosInternos|NumeroTelefono|     NumeroFax|                 URL|Direccion1|          Direccion2|CodigoPostal|    UbicacionEntrega|DireccionPostal1|DireccionPostal2|CodigoPostal2|UltimaEdicionPor|\n",
      "+-----------+--------------------+--------------------+--------------------------+------------------------+---------------+---------------+--------+-------------------+--------------------+--------------------+-----------------+----------------+------------------------+--------+--------------------+--------------+--------------+--------------------+----------+--------------------+------------+--------------------+----------------+----------------+-------------+----------------+\n",
      "|          4|       Fabrikam Inc.|                   4|                        27|                      28|            7.0|          18557|   18557|             293092|        Fabrikam Inc|Woodgrove Bank La...|           789568|      4125863879|                   12546|      30|                    |(203) 555-0104|(203) 555-0108|http://www.fabrik...|   Level 2|393999 Woodberg Road|       40351|0xE6100000010C86E...|      PO Box 301|       Eaglemont|        40351|               1|\n",
      "|          5|Graphic Design In...|                   2|                        29|                      30|           10.0|          18634|   18634|            8803922|Graphic Design In...|Woodgrove Bank La...|           563215|      1025869354|                   32587|      14|                    |(406) 555-0105|(406) 555-0106|http://www.graphi...|          |         45th Street|       64847|0xE6100000010C15E...|      PO Box 393|          Willow|        64847|               1|\n",
      "|          7|        Litware Inc.|                   5|                        33|                      34|            2.0|          22602|   22602|          BC0280982|         Litware Inc|Woodgrove Bank Mo...|           358769|      3256896325|                   21445|      30|                    |(209) 555-0108|(209) 555-0104|http://www.litwar...|   Level 3| 19 Le Church Street|       95245|0xE6100000010C297...|    PO Box 20290|         Jackson|        95245|               1|\n",
      "|          9|      Nod Publishers|                   2|                        37|                      38|           10.0|          10346|   10346|         GL08029802|      Nod Publishers|Woodgrove Bank El...|           365985|      2021545878|                   48758|       7|Marcos is not in ...|(252) 555-0100|(252) 555-0101|http://www.nodpub...|   Level 1|     389 King Street|       27906|0xE6100000010C0EB...|     PO Box 3390|        Anderson|        27906|               1|\n",
      "|         10|Northwind Electri...|                   3|                        39|                      40|            8.0|           7899|    7899|          ML0300202|Northwind Electri...|Woodgrove Bank Cr...|           325447|      3258786987|                   36214|      30|                    |(201) 555-0105|(201) 555-0104|http://www.northw...|          |        440 New Road|        7860|0xE6100000010C6C4...|    PO Box 30920|       Arlington|         7860|               1|\n",
      "+-----------+--------------------+--------------------+--------------------------+------------------------+---------------+---------------+--------+-------------------+--------------------+--------------------+-----------------+----------------+------------------------+--------+--------------------+--------------+--------------+--------------------+----------+--------------------+------------+--------------------+----------------+----------------+-------------+----------------+\n",
      "only showing top 5 rows\n",
      "\n"
     ]
    }
   ],
   "source": [
    "proveedores.show(5)"
   ]
  },
  {
   "cell_type": "code",
   "execution_count": 27,
   "metadata": {},
   "outputs": [
    {
     "name": "stdout",
     "output_type": "stream",
     "text": [
      "StructType(List(StructField(TransaccionProductoID,IntegerType,true),StructField(ProductoID,IntegerType,true),StructField(TipoTransaccionID,IntegerType,true),StructField(ClienteID,DoubleType,true),StructField(InvoiceID,DoubleType,true),StructField(ProveedorID,StringType,true),StructField(OrdenDeCompraID,StringType,true),StructField(FechaTransaccion,StringType,true),StructField(Cantidad,DoubleType,true)))\n"
     ]
    }
   ],
   "source": [
    "# estructura de tabla movimientos, colunnas por tipo de dato\n",
    "print(movimientos.schema)"
   ]
  },
  {
   "cell_type": "markdown",
   "metadata": {},
   "source": [
    "En la tabla movimientos tenemos información de los movimientos de productos, se puede observar que se cuenta con información de la transacción, el ID de la orden de compra e invoice así como la cantidad de productos por cada movimiento. Parece que aquí se registran varios tipos de transacción, probablemente entradas y salidas entre otros tipos de transacciones/movimientos. Una primera aclaración a solicitar por parte del negocio es los tipos de transacción."
   ]
  },
  {
   "cell_type": "code",
   "execution_count": 28,
   "metadata": {},
   "outputs": [
    {
     "name": "stdout",
     "output_type": "stream",
     "text": [
      "StructType(List(StructField(ProveedorID,IntegerType,true),StructField(NombreProveedor,StringType,true),StructField(CategoriaProveedorID,IntegerType,true),StructField(PersonaContactoPrincipalID,IntegerType,true),StructField(PersonaContactoAlternoID,IntegerType,true),StructField(MetodoEntregaID,DoubleType,true),StructField(CiudadEntregaID,IntegerType,true),StructField(CiudadID,IntegerType,true),StructField(ReferenciaProveedor,StringType,true),StructField(NombreCuentaBanco,StringType,true),StructField(MarcaCuentaBanco,StringType,true),StructField(CodigoCuentaBanco,IntegerType,true),StructField(NumeroCuentaBaco,LongType,true),StructField(CodigoInternacionalBanco,IntegerType,true),StructField(DiasPago,IntegerType,true),StructField(ComentariosInternos,StringType,true),StructField(NumeroTelefono,StringType,true),StructField(NumeroFax,StringType,true),StructField(URL,StringType,true),StructField(Direccion1,StringType,true),StructField(Direccion2,StringType,true),StructField(CodigoPostal,IntegerType,true),StructField(UbicacionEntrega,StringType,true),StructField(DireccionPostal1,StringType,true),StructField(DireccionPostal2,StringType,true),StructField(CodigoPostal2,IntegerType,true),StructField(UltimaEdicionPor,IntegerType,true)))\n"
     ]
    }
   ],
   "source": [
    "# estructura de tabla proveedores, colunnas por tipo de dato\n",
    "print(proveedores.schema)"
   ]
  },
  {
   "cell_type": "markdown",
   "metadata": {},
   "source": [
    "En la tabla proveedores podemos observar que se cuenta con una información casi detallada del proveedor, se tienen atributos como nombre, categoría y contacto así como información de dirección y de billing. En total son 27 atributos."
   ]
  },
  {
   "cell_type": "code",
   "execution_count": 25,
   "metadata": {},
   "outputs": [
    {
     "name": "stdout",
     "output_type": "stream",
     "text": [
      "(204292, 9) (19, 27)\n"
     ]
    }
   ],
   "source": [
    "# cantidad de registros y numero de columnas\n",
    "print((movimientos.count(), len(movimientos.columns)), (proveedores.count(), len(proveedores.columns)))"
   ]
  },
  {
   "cell_type": "markdown",
   "metadata": {},
   "source": [
    "En total tenemos 204.292 movimientos y 19 proveedores y tenemos en total 36 variables a revisar de las cuales 6 son nùmericas asociadas a las movimientos y 3 son cadenas de caracteres, por otro lado, 14 son numericas asociadas a los proveedores y las demás son cadenas de caracteres."
   ]
  },
  {
   "cell_type": "markdown",
   "metadata": {},
   "source": [
    "#### 1.2. Significado de una fila"
   ]
  },
  {
   "cell_type": "code",
   "execution_count": null,
   "metadata": {},
   "outputs": [
    {
     "name": "stdout",
     "output_type": "stream",
     "text": [
      "+---------------------+----------+-----------------+---------+---------+-----------+---------------+----------------+--------+\n",
      "|TransaccionProductoID|ProductoID|TipoTransaccionID|ClienteID|InvoiceID|ProveedorID|OrdenDeCompraID|FechaTransaccion|Cantidad|\n",
      "+---------------------+----------+-----------------+---------+---------+-----------+---------------+----------------+--------+\n",
      "|               118903|       217|               10|    476.0|  24904.0|           |               |     Apr 25,2014|   -40.0|\n",
      "|               286890|       135|               10|     33.0|  60117.0|           |               |     Dec 10,2015|    -7.0|\n",
      "|               285233|       111|               10|    180.0|  59768.0|           |               |     Dec 04,2015|    -2.0|\n",
      "|               290145|       213|               10|     33.0|  60795.0|           |               |     Dec 23,2015|    -3.0|\n",
      "|               247492|        90|               10|     55.0|  51851.0|           |               |     Jul 27,2015|   -24.0|\n",
      "+---------------------+----------+-----------------+---------+---------+-----------+---------------+----------------+--------+\n",
      "only showing top 5 rows\n",
      "\n",
      "+-----------+------+\n",
      "|ProveedorID| count|\n",
      "+-----------+------+\n",
      "|           |197182|\n",
      "|        4.0|  4832|\n",
      "|        7.0|  2267|\n",
      "|        1.0|    11|\n",
      "+-----------+------+\n",
      "\n",
      "+---------------------+----------+-----------------+---------+---------+-----------+---------------+----------------+--------+\n",
      "|TransaccionProductoID|ProductoID|TipoTransaccionID|ClienteID|InvoiceID|ProveedorID|OrdenDeCompraID|FechaTransaccion|Cantidad|\n",
      "+---------------------+----------+-----------------+---------+---------+-----------+---------------+----------------+--------+\n",
      "|               197005|        80|               11|      0.0|      0.0|        4.0|         1272.0|     Feb 10,2015| 11148.0|\n",
      "|               111093|        95|               11|      0.0|      0.0|        4.0|          745.0|     Mar 27,2014|  7764.0|\n",
      "|               227339|        98|               11|      0.0|      0.0|        4.0|         1442.0|     May 22,2015| 29232.0|\n",
      "|               174074|        80|               11|      0.0|      0.0|        4.0|         1127.0|     Nov 14,2014|  9588.0|\n",
      "|               268662|        86|               11|      0.0|      0.0|        4.0|         1676.0|     Oct 09,2015| 34128.0|\n",
      "+---------------------+----------+-----------------+---------+---------+-----------+---------------+----------------+--------+\n",
      "only showing top 5 rows\n",
      "\n"
     ]
    }
   ],
   "source": [
    "movimientos.show(5)\n",
    "movimientos.groupby(\"ProveedorID\").count().orderBy(\"count\", ascending=False).show(5)\n",
    "movimientos.filter(movimientos[\"ProveedorID\"] == 4.0).show(5)\n",
    "movimientos.filter(movimientos[\"ProveedorID\"] == 4.0).show(5)"
   ]
  },
  {
   "cell_type": "markdown",
   "metadata": {},
   "source": [
    "Con estos análisis podemos concluir que una fila de movimientos representa un movimiento realizado por un cliente (salida) o una entrada (compra) realizada por la empresa. Mientras que los proveedores coincide con su ID y contiene información detallada del proveedor asociado a movimientos de entrada."
   ]
  },
  {
   "cell_type": "markdown",
   "metadata": {},
   "source": [
    "#### 1.3 Estadísticas descriptivas por columna (numérica, categórica, fechas) \n"
   ]
  },
  {
   "cell_type": "code",
   "execution_count": 29,
   "metadata": {},
   "outputs": [
    {
     "name": "stdout",
     "output_type": "stream",
     "text": [
      "+-------+---------------------+------------------+-------------------+------------------+-----------------+-----------------+------------------+--------------------+-----------------+\n",
      "|summary|TransaccionProductoID|        ProductoID|  TipoTransaccionID|         ClienteID|        InvoiceID|      ProveedorID|   OrdenDeCompraID|    FechaTransaccion|         Cantidad|\n",
      "+-------+---------------------+------------------+-------------------+------------------+-----------------+-----------------+------------------+--------------------+-----------------+\n",
      "|  count|               204292|            204292|             204292|            204292|           204292|           204292|            204292|              204292|           204292|\n",
      "|   mean|   212458.04047637695|110.70090850351458| 10.035253460732676| 517.3252941867523|42957.26929590978|4.951898734177215|1345.9973277074544|                null|719.4997650421946|\n",
      "| stddev|    71352.37579752573| 63.49014746219581|0.18563716955046372|353.50136995999276| 16826.9772221931|1.406311225432683|420.37740964792835|                null| 4729.36659747762|\n",
      "|    min|                89146|                 1|                 10|               0.0|              0.0|                 |                  |2013-12-31 07:00:...|           -360.0|\n",
      "|    25%|               150639|                56|                 10|             145.0|          30120.0|              4.0|             986.0|                null|            -60.0|\n",
      "|    50%|               212323|               110|                 10|             511.0|          43546.0|              4.0|            1347.0|                null|             -9.0|\n",
      "|    75%|               274216|               166|                 10|             877.0|          56983.0|              7.0|            1710.0|                null|             -5.0|\n",
      "|    max|               336251|               227|                 12|            1061.0|          70510.0|              7.0|             999.0|         Sep 30,2015|          67368.0|\n",
      "+-------+---------------------+------------------+-------------------+------------------+-----------------+-----------------+------------------+--------------------+-----------------+\n",
      "\n"
     ]
    }
   ],
   "source": [
    "movimientos.summary().show()"
   ]
  },
  {
   "cell_type": "markdown",
   "metadata": {},
   "source": [
    "En las estadísticas anteriores vemos que las columna FechaTransaccion tiene un valor minimo y maximo correctos, no obstante los de de percentil aon iguales a  null, esto podría significar un error o no en la regla # 4 por lo que se analizará esta variable y la regla asociada a este posteriormente, también, se observa que la cantidad de movimientos es 204292 y que han sido realizados desde el 2013 (la fecha minima) por lo que la regla # 2 no es del todo cierta, se debe informar al negocio para saber si faltan datos o hay un error, observo que la columna TipoTransaccionID no contiene nulos y parece ser que solo tiene valores entre 10 y 12 lo cual me hace pensar que todas las transacciones estan correctamente asociadas a un único tipo de trasancción y que la inferencia inicial de que registra transacciones de entrasa y salida parece ser correcta, se debe confirmar con el negocio. Con respecto a la columna ProveedorID se puede ver que los IDs van de null (una posible salida) a 7, hace pensar que posiblemente solo se esten comprando productos de ciertos proveedores por lo que la regla # 5 se debería confirmar con el negocio, se le notificará sobre este hallazgo.\n",
    "El valor mínimo de cantidad es -360 (Salida de 360 unidades) y el máximo es de 67368, el valor máximo de Cantidad parece tener valores extremos, pues en su percentil 75% el valor máximo era -5, es decir, para el 75% de los datos, el valor de Cantidad no superaba el -5, no obstante, estos se valores se analizarán con un gráfico de cajas. Además podemos ver que inicialmente la regla # 1 parece estar cumpliendose pues no se ve ningún movimiento con una cantidad superior a 50 millones.\n",
    "finalmente, también observamos el calculo de la media para las columnas ID, esto se hace automatico pues son columnas cuyo tipo de dato es numerico, sin embargo estas no son variables numericas por lo cual calcular y/o analizar la media no tiene sentido."
   ]
  },
  {
   "cell_type": "code",
   "execution_count": 13,
   "metadata": {},
   "outputs": [
    {
     "data": {
      "text/plain": [
       "{'whiskers': [<matplotlib.lines.Line2D at 0x189fa473308>,\n",
       "  <matplotlib.lines.Line2D at 0x189f9db14c8>],\n",
       " 'caps': [<matplotlib.lines.Line2D at 0x189f9185b88>,\n",
       "  <matplotlib.lines.Line2D at 0x189f330a2c8>],\n",
       " 'boxes': [<matplotlib.lines.Line2D at 0x189fa478c08>],\n",
       " 'medians': [<matplotlib.lines.Line2D at 0x189fe927c08>],\n",
       " 'fliers': [<matplotlib.lines.Line2D at 0x189f9b724c8>],\n",
       " 'means': []}"
      ]
     },
     "execution_count": 13,
     "metadata": {},
     "output_type": "execute_result"
    },
    {
     "data": {
      "image/png": "[encoded data removed]",
      "text/plain": [
       "<Figure size 432x288 with 1 Axes>"
      ]
     },
     "metadata": {
      "needs_background": "light"
     },
     "output_type": "display_data"
    }
   ],
   "source": [
    "%matplotlib inline\n",
    "import matplotlib.pyplot as plt\n",
    "\n",
    "fig1, ax1 = plt.subplots()\n",
    "ax1.set_title('Cantidad de productos')\n",
    "ax1.boxplot(np.array(movimientos.select('Cantidad').collect()))\n"
   ]
  },
  {
   "cell_type": "markdown",
   "metadata": {},
   "source": [
    "En el diagrama de cajas anterior podemos observar que la variable cantidad no tiene valores extremos, la asunción inicial queda descartada."
   ]
  },
  {
   "cell_type": "code",
   "execution_count": 15,
   "metadata": {},
   "outputs": [
    {
     "name": "stdout",
     "output_type": "stream",
     "text": [
      "+-----------+------+\n",
      "|ProveedorID| count|\n",
      "+-----------+------+\n",
      "|           |197182|\n",
      "|        4.0|  4832|\n",
      "|        7.0|  2267|\n",
      "|        1.0|    11|\n",
      "+-----------+------+\n",
      "\n"
     ]
    }
   ],
   "source": [
    "movimientos.groupby(\"ProveedorID\").count().orderBy(\"count\", ascending=False).show(5)"
   ]
  },
  {
   "cell_type": "markdown",
   "metadata": {},
   "source": [
    "Con respecto a los proveedores podemos confirmar que de los 13 proveedores solo se registran movimientos asociados a 3 proveedores. Podría ser un error o no, se notificará al negocio."
   ]
  },
  {
   "cell_type": "code",
   "execution_count": 27,
   "metadata": {},
   "outputs": [
    {
     "name": "stdout",
     "output_type": "stream",
     "text": [
      "+-----------------+------+\n",
      "|TipoTransaccionID| count|\n",
      "+-----------------+------+\n",
      "|               10|197136|\n",
      "|               11|  7110|\n",
      "|               12|    46|\n",
      "+-----------------+------+\n",
      "\n",
      "+---------------------+------+\n",
      "|TipoTransaccionNombre| count|\n",
      "+---------------------+------+\n",
      "|          Stock Issue|197136|\n",
      "|        Stock Receipt|  7110|\n",
      "| Stock Adjustment ...|    46|\n",
      "+---------------------+------+\n",
      "\n"
     ]
    }
   ],
   "source": [
    "movimientos.groupby(\"TipoTransaccionID\").count().orderBy(\"count\", ascending=False).show(5)\n",
    "tipos_transaccion.groupby(\"TipoTransaccionNombre\").count().orderBy(\"count\", ascending=False).show(5)"
   ]
  },
  {
   "cell_type": "markdown",
   "metadata": {},
   "source": [
    "En relación a los tipos de transacción confirmamos que todas las transacciones están asociadas a un tipo y que actualmente tenemos movimientos de 3 tipos, y que el 96% de movimientos son de tipo Stock Issue, que entiendo es salida de stock."
   ]
  },
  {
   "cell_type": "code",
   "execution_count": 29,
   "metadata": {},
   "outputs": [
    {
     "data": {
      "text/plain": [
       "664"
      ]
     },
     "execution_count": 29,
     "metadata": {},
     "output_type": "execute_result"
    }
   ],
   "source": [
    "movimientos.select(col('ClienteID')).distinct().count()"
   ]
  },
  {
   "cell_type": "markdown",
   "metadata": {},
   "source": [
    "Con respecto a la regla de negocio # 3 se puede observar que no es correcta con los datos que tenemos actualmente, tenemos movimientos relacionados solo a 664 diferentes clientes no con 228265 clientes, se debe notificar al negocio para entender si falta datos o hay errores."
   ]
  },
  {
   "cell_type": "code",
   "execution_count": 41,
   "metadata": {},
   "outputs": [
    {
     "name": "stdout",
     "output_type": "stream",
     "text": [
      "Número total de movimientos: 204292, número de movimientos con formato correcto: 140038\n",
      "+---------------------+----------+-----------------+---------+---------+-----------+---------------+----------------+--------+\n",
      "|TransaccionProductoID|ProductoID|TipoTransaccionID|ClienteID|InvoiceID|ProveedorID|OrdenDeCompraID|FechaTransaccion|Cantidad|\n",
      "+---------------------+----------+-----------------+---------+---------+-----------+---------------+----------------+--------+\n",
      "|               118903|       217|               10|    476.0|  24904.0|           |               |     Apr 25,2014|   -40.0|\n",
      "|               286890|       135|               10|     33.0|  60117.0|           |               |     Dec 10,2015|    -7.0|\n",
      "|               285233|       111|               10|    180.0|  59768.0|           |               |     Dec 04,2015|    -2.0|\n",
      "|               290145|       213|               10|     33.0|  60795.0|           |               |     Dec 23,2015|    -3.0|\n",
      "|               247492|        90|               10|     55.0|  51851.0|           |               |     Jul 27,2015|   -24.0|\n",
      "|               157714|       212|               10|    146.0|  33043.0|           |               |     Sep 15,2014|   -20.0|\n",
      "|               250024|       218|               10|    585.0|  52377.0|           |               |     Aug 04,2015|   -60.0|\n",
      "|               200801|       120|               10|     30.0|  42049.0|           |               |     Feb 23,2015|    -3.0|\n",
      "|               221525|       129|               10|    596.0|  46388.0|           |               |     May 01,2015|    -7.0|\n",
      "|               295331|       197|               10|   1037.0|  61886.0|           |               |     Jan 08,2016|  -216.0|\n",
      "|               110972|       162|               10|    137.0|  23228.0|           |               |     Mar 26,2014|   -20.0|\n",
      "|               249110|       209|               10|    552.0|  52188.0|           |               |     Jul 31,2015|   -25.0|\n",
      "|               154624|       149|               10|    519.0|  32401.0|           |               |     Sep 02,2014|   -36.0|\n",
      "|               313072|        49|               10|    141.0|  65643.0|           |               |     Mar 15,2016|    -8.0|\n",
      "|               335449|       150|               10|    150.0|  70341.0|           |               |     May 28,2016|    -4.0|\n",
      "|               259859|       146|               10|     43.0|  54454.0|           |               |     Sep 09,2015|   -96.0|\n",
      "|               126490|       189|               10|     71.0|  26484.0|           |               |     May 23,2014|  -260.0|\n",
      "|               151545|        90|               10|     84.0|  31758.0|           |               |     Aug 20,2014|   -24.0|\n",
      "|               191958|        73|               10|    119.0|  40202.0|           |               |     Jan 21,2015|   -10.0|\n",
      "|               291834|       131|               10|   1006.0|  61153.0|           |               |     Dec 29,2015|    -6.0|\n",
      "+---------------------+----------+-----------------+---------+---------+-----------+---------------+----------------+--------+\n",
      "only showing top 20 rows\n",
      "\n",
      "+---------------------+----------+-----------------+---------+---------+-----------+---------------+----------------+--------+\n",
      "|TransaccionProductoID|ProductoID|TipoTransaccionID|ClienteID|InvoiceID|ProveedorID|OrdenDeCompraID|FechaTransaccion|Cantidad|\n",
      "+---------------------+----------+-----------------+---------+---------+-----------+---------------+----------------+--------+\n",
      "+---------------------+----------+-----------------+---------+---------+-----------+---------------+----------------+--------+\n",
      "\n"
     ]
    }
   ],
   "source": [
    "regex = \"[0-2]\\d{3}-(0[1-9]|1[0-2])-(0[1-9]|[1-2][0-9]|3[0-1])\"\n",
    "cumplenFormato = movimientos.filter(movimientos[\"FechaTransaccion\"].rlike(regex))\n",
    "noCumplenFormato = movimientos.filter(~movimientos[\"FechaTransaccion\"].rlike(regex))\n",
    "nullFecha = movimientos.filter(movimientos[\"FechaTransaccion\"].isNull())\n",
    "print(\"Número total de movimientos: \"+str(movimientos.count())+\", número de movimientos con formato correcto: \"+str(cumplenFormato.count()))\n",
    "noCumplenFormato.show()\n",
    "nullFecha.show()"
   ]
  },
  {
   "cell_type": "markdown",
   "metadata": {},
   "source": [
    "Podemos observar que no hay fechas nulas, por lo que la impresión inicial sobre fechas nulas no es correcta, quizá los percentiles aparecen nulos porque no se pueden calcular de manera regular, tendría que hacerse un código particular para analizar percentiles en campos de fecha, también tenemos 64254 movimientos que no cumplen con el formato especificado, solo parecer ser problema de formato así que se informará esto al negocio porque es algo que se puede corregir fácilmente."
   ]
  },
  {
   "cell_type": "code",
   "execution_count": 76,
   "metadata": {},
   "outputs": [
    {
     "name": "stderr",
     "output_type": "stream",
     "text": [
      "Summarize dataset:  60%|██████    | 12/20 [00:03<00:01,  4.88it/s, Calculate kendall correlation]         C:\\Users\\estudiante\\anaconda3\\envs\\Tutoriales\\lib\\site-packages\\scipy\\stats\\stats.py:4812: RuntimeWarning: overflow encountered in longlong_scalars\n",
      "  (2 * xtie * ytie) / m + x0 * y0 / (9 * m * (size - 2)))\n",
      "Summarize dataset: 100%|██████████| 47/47 [00:23<00:00,  2.04it/s, Completed]                                           \n",
      "Generate report structure: 100%|██████████| 1/1 [00:04<00:00,  4.35s/it]\n",
      "Render HTML: 100%|██████████| 1/1 [00:02<00:00,  2.26s/it]\n",
      "Export report to file: 100%|██████████| 1/1 [00:00<00:00, 28.58it/s]\n"
     ]
    }
   ],
   "source": [
    "reporte = ProfileReport(movimientos.toPandas())\n",
    "reporte.to_file(PATH+\"movimientos_reporte_prefilamiento.html\")"
   ]
  },
  {
   "cell_type": "markdown",
   "metadata": {},
   "source": [
    "Seccion general del reporte:\n",
    "\n",
    "Tenemos 9 variables y 204292 registros (es decir, movimientos), de las cuales 5 son numericas, 4 categoricas.\n",
    "En los datos hay 29.3% de datos vacíos, (conclusión)\n",
    "\n",
    "El archivo ocupa en memoria 11.7 MB\n",
    "\n",
    "Hay un 15% de registros duplicados\n",
    "\n",
    "Sección de variables del reporte:\n",
    "\n",
    "Note que para cada variable nos dan estadisticos como la media, mínimo y máximo asi como un histograma de distribución de la variable, para nuestros datos no observamos nada por fuera de lo comun. (Como valores extremos)\n",
    "\n",
    "OrdenDeCompraId y FechaTransaccion tienen alta cardinalidad, TransaccionProductoID, ProductoID, TipoTransaccionID, ClienteID, InvoiceID, ProveedorID y Cantidad son columnas que tienen una alta correlación.\n",
    "\n",
    "\n",
    "Sección de interacciones y correlaciones:\n",
    "\n",
    "Parecen haber columnas con correlaciones(Spearman) iguales a 1, esto significa que ambas columnas representan la misma información, no obstante, parecer ser una falsa alerta, ya que al ser columnas que almacenan IDs, hay posibilidad que hayan IDs númericos iguales no obstante representa información diferente, por ejemplo TransactionProductID puede tener valor 100 e InvoiceID también lo cual no significa necesariamente que haya un error de datos ya que son PKs de tablas diferentes y al ser númericas puede existir registros en ambas tablas con ID iguales como el mencionado."
   ]
  },
  {
   "cell_type": "markdown",
   "metadata": {},
   "source": [
    "## Completitud del análisis de la calidad de datos (40 puntos) \n",
    "- 2.1. Completitud: Datos que no existen o no se conocen\n",
    "- 2.2. Unicidad: Datos que son idénticos en diferentes registros o registros con valores idénticos en atributos en los que no debería ocurrir\n",
    "- 2.3. Consistencia: Esta medida se define por la validez o integridad del dato, en la definición de su estructura, al interior de una fila o entre diferentes filas de la misma fuente o de diferentes fuentes. El manejo de unidades en los datos y el significado del dato son generadores de inconsistencias.\n",
    "- 2.4 Validez: Datos correctos en el contextoCompletitud del análisis de la calidad de datos\n"
   ]
  },
  {
   "cell_type": "markdown",
   "metadata": {},
   "source": [
    "#### Unicidad y validez\n",
    "\n",
    "Parte de la validez se revisó en el perfilamiento general, en la regla de negocio 2, 3 y 4 al final de la sección 1.3. Por otro lado, respecto a la unicidad a continuación haremos un analisis basado en si existen movimientos repetidos y/o idénticos."
   ]
  },
  {
   "cell_type": "code",
   "execution_count": 45,
   "metadata": {},
   "outputs": [
    {
     "name": "stdout",
     "output_type": "stream",
     "text": [
      "(173659, 204292)\n",
      "173659\n"
     ]
    }
   ],
   "source": [
    "print((movimientos.distinct().count(), movimientos.count()))\n",
    "print(movimientos.select(col('TransaccionProductoID')).distinct().count())"
   ]
  },
  {
   "cell_type": "markdown",
   "metadata": {},
   "source": [
    "De este analisis de unicidad se puede decir que tenemos 30663 movimentos completamente repetidos ya que adicionalmente se reviso los datos por la llave primaria de la tabla movimientos y la cantidad de registros únicos fue igual a la de los registros idénticos 173659. Tenemos un 15% de registros repetidos en la tabla movimientos, esto nos indica que probablemente haya un error en los datos, se debe notificar al negocio para entender mejor la situación."
   ]
  },
  {
   "cell_type": "code",
   "execution_count": 49,
   "metadata": {},
   "outputs": [
    {
     "name": "stdout",
     "output_type": "stream",
     "text": [
      "+---------------------+-----+\n",
      "|TransaccionProductoID|count|\n",
      "+---------------------+-----+\n",
      "|               197953|    2|\n",
      "|               101055|    2|\n",
      "|               309597|    2|\n",
      "|               209326|    2|\n",
      "|               213516|    2|\n",
      "+---------------------+-----+\n",
      "only showing top 5 rows\n",
      "\n"
     ]
    }
   ],
   "source": [
    "movimientos.groupby(\"TransaccionProductoID\").count().filter(col(\"count\") > 1).show(5)"
   ]
  },
  {
   "cell_type": "code",
   "execution_count": 54,
   "metadata": {},
   "outputs": [
    {
     "name": "stdout",
     "output_type": "stream",
     "text": [
      "+---------------------+----------+-----------------+---------+---------+-----------+---------------+--------------------+--------+\n",
      "|TransaccionProductoID|ProductoID|TipoTransaccionID|ClienteID|InvoiceID|ProveedorID|OrdenDeCompraID|    FechaTransaccion|Cantidad|\n",
      "+---------------------+----------+-----------------+---------+---------+-----------+---------------+--------------------+--------+\n",
      "|               197953|       212|               10|    174.0|  41456.0|           |               |2015-02-12 12:00:...|   -10.0|\n",
      "|               197953|       212|               10|    174.0|  41456.0|           |               |2015-02-12 12:00:...|   -10.0|\n",
      "+---------------------+----------+-----------------+---------+---------+-----------+---------------+--------------------+--------+\n",
      "\n"
     ]
    }
   ],
   "source": [
    "# anakizando una de las PK repetidas 197953\n",
    "movimientos.filter(col(\"TransaccionProductoID\") == 197953).show()"
   ]
  },
  {
   "cell_type": "markdown",
   "metadata": {},
   "source": [
    "Se puede comprobar que efectivamente los 30663 registros corresponde a movimientos repetidos en todas sus variables en la tabla movimientos"
   ]
  },
  {
   "cell_type": "markdown",
   "metadata": {},
   "source": [
    "#### Completitud y validez"
   ]
  },
  {
   "cell_type": "code",
   "execution_count": 67,
   "metadata": {},
   "outputs": [],
   "source": [
    "def contar_vacios(df):\n",
    "    resultados = []\n",
    "    for c in df.columns:\n",
    "        vacios = df.filter(df[c].isNull()).count()\n",
    "        if vacios!=0:\n",
    "            print('número de vacíos para columna '+c+': '+str( vacios ))\n",
    "            resultados.append(vacios)\n",
    "        else:\n",
    "            vacios = df.filter(trim(df[c])==\"\").count()\n",
    "            if vacios!=0:\n",
    "                print('número de vacíos para columna '+c+': '+str( vacios ))\n",
    "                resultados.append(vacios)\n",
    "    return resultados\n",
    "\n",
    "def cardinalidad(df):\n",
    "    resultado = {}\n",
    "    for c in df.columns:\n",
    "        cardinalidad = df.select(col(c)).distinct().count()\n",
    "        if cardinalidad>=df.count()*0.5:\n",
    "            resultado[c] = cardinalidad\n",
    "    return resultado"
   ]
  },
  {
   "cell_type": "code",
   "execution_count": 68,
   "metadata": {},
   "outputs": [
    {
     "name": "stdout",
     "output_type": "stream",
     "text": [
      "Movimientos analisis de vacios \n",
      "número de vacíos para columna ProveedorID: 197182\n",
      "número de vacíos para columna OrdenDeCompraID: 197182\n",
      "Movimientos analisis de cardinalidad \n",
      "{'TransaccionProductoID': 173659}\n"
     ]
    }
   ],
   "source": [
    "print(\"Movimientos analisis de vacios \")\n",
    "columnas_vacias_movimientos = contar_vacios(movimientos)\n",
    "print(\"Movimientos analisis de cardinalidad \")\n",
    "columnas_alta_cardinalidad_movimientos = cardinalidad(movimientos)\n",
    "print(columnas_alta_cardinalidad_movimientos)"
   ]
  },
  {
   "cell_type": "markdown",
   "metadata": {},
   "source": [
    "Como podemos observar para los movimientos las columnas ProveedorID tiene 197182 vacios, la columna OrdenDeCompraID tiene 197182. Parte de la completitud se analizo en la sección 1.\n",
    "Respecto a cardinalidad, solo la columna TransaccionProductoID tiene una cardinalidad cercana al 85%."
   ]
  },
  {
   "cell_type": "markdown",
   "metadata": {},
   "source": [
    "### Consistencia\n",
    "A nivel de consistencia podemos revisar los valores de la columna cantidad en relación con el tipo de transacción/movimiento. En nuestro caso vamos a verificar que todas las cantidades -sean negativas o positivas- en primer lugar sean diferente a cero y segundo que tengan relación con el tipo de transacción, por ejemplo un movimiento de entrada no debería tener una cantidad negativa sino una positiva y viceversa."
   ]
  },
  {
   "cell_type": "code",
   "execution_count": 63,
   "metadata": {},
   "outputs": [
    {
     "name": "stdout",
     "output_type": "stream",
     "text": [
      "Numero de movimientos tipo Stock Issue con error: 0\n",
      "Numero de movimientos tipo Stock Receipt con error: 0\n",
      "Numero de movimientos tipo Stock Adjustment con error: 5\n",
      "+---------------------+----------+-----------------+---------+---------+-----------+---------------+--------------------+--------+\n",
      "|TransaccionProductoID|ProductoID|TipoTransaccionID|ClienteID|InvoiceID|ProveedorID|OrdenDeCompraID|    FechaTransaccion|Cantidad|\n",
      "+---------------------+----------+-----------------+---------+---------+-----------+---------------+--------------------+--------+\n",
      "|                97776|        81|               12|      0.0|      0.0|           |               |2014-01-31 14:00:...|     0.0|\n",
      "|                97778|        75|               12|      0.0|      0.0|           |               |2014-01-31 14:00:...|     0.0|\n",
      "|               194927|       150|               12|      0.0|      0.0|           |               |2015-01-31 14:00:...|     0.0|\n",
      "|               221188|        34|               12|      0.0|      0.0|           |               |2015-04-30 14:00:...|     0.0|\n",
      "|                97778|        75|               12|      0.0|      0.0|           |               |2014-01-31 14:00:...|     0.0|\n",
      "+---------------------+----------+-----------------+---------+---------+-----------+---------------+--------------------+--------+\n",
      "\n"
     ]
    }
   ],
   "source": [
    "# Stock Issue = 10 (salida de stock)\n",
    "# Stock Receipt = 11 (entrada de stock)\n",
    "# Stock Adjustment = 12 (entrada o salida de stock)\n",
    "numero_de_stock_issue_con_error = movimientos.filter(col(\"TipoTransaccionID\") == 10).filter(col(\"Cantidad\") >= 0).count()\n",
    "print(f'Numero de movimientos tipo Stock Issue con error: {numero_de_stock_issue_con_error}')\n",
    "\n",
    "numero_de_stock_receipt_con_error = movimientos.filter(col(\"TipoTransaccionID\") == 11).filter(col(\"Cantidad\") <= 0).count()\n",
    "print(f'Numero de movimientos tipo Stock Receipt con error: {numero_de_stock_receipt_con_error}')\n",
    "\n",
    "stock_adjustment = movimientos.filter(col(\"TipoTransaccionID\") == 12).filter(col(\"Cantidad\") == 0)\n",
    "numero_de_stock_adjustment_con_error = stock_adjustment.count()\n",
    "print(f'Numero de movimientos tipo Stock Adjustment con error: {numero_de_stock_adjustment_con_error}')\n",
    "stock_adjustment.show()"
   ]
  },
  {
   "cell_type": "markdown",
   "metadata": {},
   "source": [
    "Como se puede observar hay 5 movimientos cuya Cantidad es 0.0, casos como este no tienen sentido en el contexto de WideWorldImporters. Esta inconsistencia se notifica al negocio dado que no hay forma de conocer cual es la razón de que tengamos estos registros en la base de datos."
   ]
  },
  {
   "cell_type": "code",
   "execution_count": 74,
   "metadata": {},
   "outputs": [
    {
     "name": "stdout",
     "output_type": "stream",
     "text": [
      "+----------+------+--------------+------------+--------------+----------------+-------------+-------------------+--------+\n",
      "|ID_Cliente|Nombre|ClienteFactura|ID_Categoria|ID_GrupoCompra|ID_CiudadEntrega|LimiteCredito|FechaAperturaCuenta|DiasPago|\n",
      "+----------+------+--------------+------------+--------------+----------------+-------------+-------------------+--------+\n",
      "+----------+------+--------------+------------+--------------+----------------+-------------+-------------------+--------+\n",
      "\n"
     ]
    },
    {
     "data": {
      "text/plain": [
       "7156"
      ]
     },
     "execution_count": 74,
     "metadata": {},
     "output_type": "execute_result"
    }
   ],
   "source": [
    "clientes.filter(col(\"ID_Cliente\")==0).show()\n",
    "movimientos.filter(col(\"ClienteID\")==0).count()"
   ]
  },
  {
   "cell_type": "markdown",
   "metadata": {},
   "source": [
    "Adicionalmente, podemos ver que no existen clientes con ID 0, por lo que 7156 movimientos están asociados a un cliente inexistente, esta inconsistencia parecer ser un error de datos por lo que se notificará al negocio para luego tomar una decisión."
   ]
  },
  {
   "cell_type": "markdown",
   "metadata": {},
   "source": [
    "## Conclusión del entendimiento de datos (20 puntos)\n",
    "#### 3.1. Justificación de si es posible resolver los análisis basados en tableros de control propuestos.\n"
   ]
  },
  {
   "cell_type": "markdown",
   "metadata": {},
   "source": [
    "Teniendo en cuenta el requerimiento de WWI, consideramos que es posible llevar a cabo una solución pues contamos con la información necesaria especificada en el análisis requerido, sin embargo es necesario realizar correcciones a los datos (algunos fechas deben formatearse y eliminar registros repetidos) y obtener aclaraciones de parte del negocio que se mencionan en los siguientes parráfos."
   ]
  },
  {
   "cell_type": "markdown",
   "metadata": {},
   "source": [
    "Algo que se debe aclarar con el negocio es que variable o variables dan significado al concepto de viaje, aparentemente la regla # 1 se esta cumpliendo pues no existe ningún movimiento con una cantidad superior a 50 millones, no obstante puede ser que necesitemos agregar la información de movimientos para comprobar al 100% esta regla, es algo que se debe consultar con el negocio."
   ]
  },
  {
   "cell_type": "markdown",
   "metadata": {},
   "source": [
    "Se debe aclarar la relación entre ClienteID, InvoiceID, ProveedorID y OrdenDeCompraID en el contexto de un movimiento, de lo contrario se pueden inferir y asumir condiciones que podrían no ser correctas, de ello se desprenden algunas preguntas:\n",
    "- Un movimiento de tipo Stock issue, ¿Estará siempre asociado a un ClientID y un InvoiceID?\n",
    "- Un movimiento de tipo Stock receipt, ¿Estará siempre asociado a un ProveedorID y un OrdenDeCompraID?\n",
    "- Un movimiento de tipo Stock adjustment, ¿Puede estar asociado a un ProveedorID y un OrdenDeCompraID y también a un CLientID e InvoiceID? si la respuesta es afirmativa, ¿Dependería del valor de cantidad la relación con dichos IDs? por ejemplo, si es positivo significa un ajuste de entrada que podría estar asociado o no a un ProveedorID y una order de compra.\n"
   ]
  },
  {
   "cell_type": "markdown",
   "metadata": {},
   "source": [
    "#### 3.2 Incluir la síntesis de lo que representa la fila promedio de los datos analizados.\n"
   ]
  },
  {
   "cell_type": "markdown",
   "metadata": {},
   "source": [
    "\n",
    "**Conclusiones generales:**\n",
    "\n",
    "1. En la tabla de movimientos tenemos información **relacionada con el cliente, el proveedor, el recibo de venta, la orden de compra y el tipo de transacción**.\n",
    "2. Una fila de movimentos representa una determinada cantidad de productos que entraron o salieron de alamacén. Entraron por una compra a un Proveedor o salieron porque se completo una venta o pueden haber entrado y/o salido por un ajuste en el inventario.\n",
    "\n",
    "**Conclusiones de reglas de negocio:**\n",
    "\n",
    "1. La regla 1 debe ser aclarada con el negocio como se menciono en la sección anterior, es necesario entender el concepto de viaje y como se puede identificar movimientos asociados a tal concepto.\n",
    "2. La regla 2 no es totalmente cierta dado que el número de registros no parece coincidir con el número dado por el negocio, Hay 30663 movimientos completamente repetidos y 5 con cantidad igual a cero, los primeros se pueden eliminar, pero ¿qué deberíamos hacer con los segundos? Por otro lado los datos si comienzan en el año 2013.\n",
    "3. La regla 3 nos dice que los movimientos están relacionados con 228265 clientes sin embargo están asociados solamente a 664 clientes ¿es un error o faltan datos?\n",
    "4. Algunos formatos de fecha no coinciden con el dado en la regla 4, hay 64254 que no tienen ese formato. En este caso el cambio de formato se puede implementar, ¿estan de acuerdo?\n",
    "5. La regla 4 parece no ser cierta ya que tenemos 19 proveedores ¿Es un error de datos?\n",
    "\n",
    "**Conclusiones de calidad:**\n",
    "\n",
    "1. Las columnas ProveedorID y OrdenDeCompraID tienen un total de 197182 vacios ¿es un error o faltan datos?\n",
    "2. Los valores de la columna Cantidad no presentan valores anómalos o extremos, incluso, guardan relación con el tipo de transacción realizada. No obstante, tenemos 5 registros que tiene una cantidad igual a cero por lo que se pueden eliminar, ¿Están de acuerdo?\n",
    "3. Todos los movimientos están asociados a un tipo de transacción y tienen una cantidad diferente de vacio/null.\n",
    "4. Observamos que la columna ClienteID e InvoiceID pueden tomar el valor de 0, tenmos 7156 registros con este caso, que podría ser o no un error, se notifica al negocio.\n",
    "5. Respecto a cardinalidad, solo la columna TransaccionProductoID tiene una cardinalidad superior al 85%.\n",
    "\n",
    "**Usando herramientas:**\n",
    "\n",
    "Seccion general del reporte:\n",
    "\n",
    "1. Tenemos 9 variables y 204292 registros (es decir, movimientos), de las cuales 5 son numericas, 4 categoricas. En los datos hay 29.3% de datos vacíos, (conclusión)\n",
    "\n",
    "2. El archivo ocupa en memoria 11.7 MB\n",
    "\n",
    "3. Hay un 15% de registros duplicados\n",
    "\n",
    "Sección de variables del reporte:\n",
    "\n",
    "1. Note que para cada variable nos dan estadisticos como la media, mínimo y máximo asi como un histograma de distribución de la variable, para nuestros datos no observamos nada por fuera de lo comun. (Como valores extremos)\n",
    "\n",
    "2. OrdenDeCompraId y FechaTransaccion tienen alta cardinalidad, TransaccionProductoID, ProductoID, TipoTransaccionID, ClienteID, InvoiceID, ProveedorID y Cantidad son columnas que tienen una alta correlación.\n",
    "\n",
    "Sección de interacciones y correlaciones:\n",
    "\n",
    "1. Parecen haber columnas con correlaciones(Spearman) iguales a 1, esto significa que ambas columnas representan la misma información, no obstante, parecer ser una falsa alerta, ya que al ser columnas que almacenan IDs, hay posibilidad que hayan IDs númericos iguales no obstante representa información diferente, por ejemplo TransactionProductID puede tener valor 100 e InvoiceID también lo cual no significa necesariamente que haya un error de datos ya que son PKs de tablas diferentes y al ser númericas puede existir registros en ambas tablas con ID iguales como el mencionado."
   ]
  }
 ],
 "metadata": {
  "kernelspec": {
   "display_name": "Python 3 (ipykernel)",
   "language": "python",
   "name": "python3"
  },
  "language_info": {
   "codemirror_mode": {
    "name": "ipython",
    "version": 3
   },
   "file_extension": ".py",
   "mimetype": "text/x-python",
   "name": "python",
   "nbconvert_exporter": "python",
   "pygments_lexer": "ipython3",
   "version": "3.7.13"
  },
  "toc-autonumbering": true,
  "toc-showcode": true
 },
 "nbformat": 4,
 "nbformat_minor": 4
}
